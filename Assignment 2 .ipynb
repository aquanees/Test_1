{
 "cells": [
  {
   "cell_type": "code",
   "execution_count": null,
   "id": "76a94573",
   "metadata": {},
   "outputs": [],
   "source": [
    "You are creating a program to manage a grocery shopping list. Users should be able to add items,\n",
    "remove items, and display the current list"
   ]
  },
  {
   "cell_type": "code",
   "execution_count": 34,
   "id": "18c10d1e",
   "metadata": {},
   "outputs": [
    {
     "name": "stdout",
     "output_type": "stream",
     "text": [
      "Grocery Shopping List:\n",
      "Mango\n",
      "orange\n",
      "vegetable oil\n",
      "chicken nuggets\n",
      "Milk\n",
      "Updated Grocery shopping list:\n",
      "Mango\n",
      "orange\n",
      "vegetable oil\n",
      "chicken nuggets\n",
      "Milk\n",
      "Bread\n",
      "Current Grocery shopping list:\n",
      "Mango\n",
      "orange\n",
      "vegetable oil\n",
      "Milk\n",
      "Bread\n"
     ]
    }
   ],
   "source": [
    "Grocery_Shopping_list = [\"Mango\", \"orange\", \"vegetable oil\", \"chicken nuggets\", \"Milk\"]\n",
    "\n",
    "print(\"Grocery Shopping List:\")\n",
    "for item in Grocery_Shopping_list:\n",
    "    print(item)\n",
    "    \n",
    "new_item = \"Bread\"\n",
    "Grocery_Shopping_list.append(new_item)\n",
    "\n",
    "print(\"Updated Grocery shopping list:\")\n",
    "for item in Grocery_Shopping_list:\n",
    "    print(item)\n",
    "    \n",
    "item_to_remove = \"chicken nuggets\"\n",
    "if item_to_remove in Grocery_Shopping_list:\n",
    "    Grocery_Shopping_list.remove(item_to_remove)\n",
    "\n",
    "print(\"Current Grocery shopping list:\")\n",
    "for item in Grocery_Shopping_list:\n",
    "    print(item)\n"
   ]
  },
  {
   "cell_type": "markdown",
   "id": "93ac2d4e",
   "metadata": {},
   "source": [
    "You are managing student grades using a dictionary. You need to calculate the average grade.take\n",
    "atleast 5 Students grades & then calculate the average."
   ]
  },
  {
   "cell_type": "code",
   "execution_count": 7,
   "id": "cb3feae2",
   "metadata": {},
   "outputs": [
    {
     "name": "stdout",
     "output_type": "stream",
     "text": [
      "The average grade is: 66.4\n"
     ]
    }
   ],
   "source": [
    "\n",
    "student_grades = {\n",
    "    \"Hassan\": 55,\n",
    "    \"Bilal\": 66,\n",
    "    \"Ahsan\": 68,\n",
    "    \"Usman\": 98,\n",
    "    \"Habib\": 45\n",
    "}\n",
    "\n",
    "grades_list = list(student_grades.values())\n",
    "average_grade = sum(grades_list) / len(grades_list)\n",
    "\n",
    "print(f\"The average grade is: {average_grade}\")\n"
   ]
  },
  {
   "cell_type": "markdown",
   "id": "7d9560ba",
   "metadata": {},
   "source": [
    "Scenario 3: Word Frequency Counter\n",
    "You are given a list of words, and you need to count the frequency of each word.\n",
    "word_list = [\"apple\", \"banana\", \"apple\", \"orange\", \"banana\", \"grape\", \"apple\"]\n"
   ]
  },
  {
   "cell_type": "code",
   "execution_count": 5,
   "id": "21dbdf27",
   "metadata": {},
   "outputs": [
    {
     "name": "stdout",
     "output_type": "stream",
     "text": [
      "apple: 3\n",
      "banana: 2\n",
      "orange: 1\n",
      "grape: 1\n"
     ]
    }
   ],
   "source": [
    "#from collections import Counter\n",
    "\n",
    "word_list = [\"apple\", \"banana\", \"apple\", \"orange\", \"banana\", \"grape\", \"apple\"]\n",
    "\n",
    "word_frequency = Counter(word_list)\n",
    "\n",
    "for word, frequency in word_frequency.items():\n",
    "    print(f\"{word}: {frequency}\")\n"
   ]
  },
  {
   "cell_type": "markdown",
   "id": "cb1a1a77",
   "metadata": {},
   "source": [
    "Scenario 3: Password Strength Checker\n",
    "You are creating a program to check the strength of passwords based on certain criteria.\n",
    "• Password should be at least 8 characters long.\n",
    "• Password should contain at least one digit.\n",
    "• Password should contain at least one letter."
   ]
  },
  {
   "cell_type": "code",
   "execution_count": 16,
   "id": "430eae34",
   "metadata": {},
   "outputs": [
    {
     "name": "stdout",
     "output_type": "stream",
     "text": [
      "Enter your password: aneeskhi99\n",
      "Strong: Password meets all criteria.\n"
     ]
    }
   ],
   "source": [
    "def check_password_strength(password):\n",
    "    if len(password) < 8:\n",
    "        return \"Weak: Password should be at least 8 characters long.\"\n",
    "\n",
    "    if not any (char.isdigit() for char in password):\n",
    "        return \"Weak: Password should contain at least one digit.\"\n",
    "\n",
    "    if not any(str(char.isletter() for char in password)):\n",
    "        return \"Weak: Password should contain at least one letter.\"\n",
    "\n",
    "    return \"Strong: Password meets all criteria.\"\n",
    "\n",
    "password_input = input(\"Enter your password: \")\n",
    "result = check_password_strength(password_input)\n",
    "print(result)\n",
    "\n"
   ]
  },
  {
   "cell_type": "markdown",
   "id": "db724dfb",
   "metadata": {},
   "source": [
    "You are developing a simple voting system for a contest. Users can vote for their Favorite option, and\n",
    "you need to count the votes.\n",
    "In a corporate setting, the HR department is organizing the Annual Employee Recognition Awards,\n",
    "where employees get the opportunity to vote for their colleagues nominated in different categories.\n",
    "The HR team has decided to use a simple voting system to collect and tally votes for the nominees in\n",
    "various award categories. The script provided will be utilized for this purpose.\n",
    "Candidates: The nominees for different award categories, such as \"Employee of the Year,\" \"Team\n",
    "Player of the Year,\" and \"Innovation Award,\" are represented by the list of candidates: 'Candidate A,'\n",
    "'Candidate B,' and 'Candidate C.'\n",
    "Voting Process: Employees are requested to input the number of voters participating in the awards.\n",
    "Each voter is presented with a list of nominees, and they can vote for their preferred candidate by\n",
    "entering the corresponding number.\n",
    "Validation: The script ensures that the entered vote is within the valid range of candidates. If an\n",
    "employee enters an invalid vote, the system prompts them to choose a valid candidate.\n",
    "Recording Votes: The script records each vote for the selected candidate and prints a confirmation\n",
    "message indicating that the vote has been recorded."
   ]
  },
  {
   "cell_type": "code",
   "execution_count": null,
   "id": "de00654e",
   "metadata": {},
   "outputs": [],
   "source": [
    "candidates = ['Candidate A', 'Candidate B', 'Candidate C']\n",
    "votes = {candidate: 0 for candidate in candidates}\n",
    "\n",
    "num_voters = int(input(\"Enter the number of voters: \"))\n",
    "\n",
    "for _ in range(num_voters):\n",
    "    print(\"Candidates:\")\n",
    "    for i, candidate in enumerate(candidates, start=1):\n",
    "        print(f\"{i}. {candidate}\")\n",
    "\n",
    "    vote = int(input(\"Enter the number corresponding to your vote: \"))\n",
    "    \n",
    "    if 1 <= vote <= len(candidates):\n",
    "        selected_candidate = candidates[vote - 1]\n",
    "        votes[selected_candidate] += 1\n",
    "        print(f\"Vote for {selected_candidate} recorded.\")\n",
    "    else:\n",
    "        print(\"Invalid vote. Please choose a valid candidate.\")\n",
    "\n",
    "print(\"\\nVoting Results:\")\n",
    "for candidate, vote_count in votes.items():\n",
    "    print(f\"{candidate}: {vote_count} votes\")"
   ]
  },
  {
   "cell_type": "code",
   "execution_count": null,
   "id": "949cefbe",
   "metadata": {},
   "outputs": [],
   "source": []
  }
 ],
 "metadata": {
  "kernelspec": {
   "display_name": "Python 3 (ipykernel)",
   "language": "python",
   "name": "python3"
  },
  "language_info": {
   "codemirror_mode": {
    "name": "ipython",
    "version": 3
   },
   "file_extension": ".py",
   "mimetype": "text/x-python",
   "name": "python",
   "nbconvert_exporter": "python",
   "pygments_lexer": "ipython3",
   "version": "3.11.5"
  }
 },
 "nbformat": 4,
 "nbformat_minor": 5
}
